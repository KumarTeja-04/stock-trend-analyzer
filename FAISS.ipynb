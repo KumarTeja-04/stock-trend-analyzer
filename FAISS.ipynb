{
 "cells": [
  {
   "cell_type": "markdown",
   "id": "071cf906-974b-4142-90a7-45c66a09f912",
   "metadata": {},
   "source": [
    "# Understanding Faiss"
   ]
  },
  {
   "cell_type": "code",
   "execution_count": 1,
   "id": "84398816-b345-4c89-8f2e-e6d0bc282fae",
   "metadata": {},
   "outputs": [],
   "source": [
    "# #Install Packages\n",
    "# !pip install faiss-cpu\n",
    "# !pip install sentence-transformers"
   ]
  },
  {
   "cell_type": "code",
   "execution_count": 2,
   "id": "9cc80c63-524f-4c27-b611-c73d3bc82c5a",
   "metadata": {},
   "outputs": [],
   "source": [
    "# import pandas \n",
    "import pandas as pd "
   ]
  },
  {
   "cell_type": "code",
   "execution_count": 3,
   "id": "a972a14c-ef8a-4a76-91f1-fa1b060c6fc8",
   "metadata": {},
   "outputs": [],
   "source": [
    "df = pd.read_csv(\"FAISS_text.csv\")"
   ]
  },
  {
   "cell_type": "code",
   "execution_count": 4,
   "id": "3638a82f-b6aa-4a00-b876-630725607ab1",
   "metadata": {},
   "outputs": [
    {
     "data": {
      "text/html": [
       "<div>\n",
       "<style scoped>\n",
       "    .dataframe tbody tr th:only-of-type {\n",
       "        vertical-align: middle;\n",
       "    }\n",
       "\n",
       "    .dataframe tbody tr th {\n",
       "        vertical-align: top;\n",
       "    }\n",
       "\n",
       "    .dataframe thead th {\n",
       "        text-align: right;\n",
       "    }\n",
       "</style>\n",
       "<table border=\"1\" class=\"dataframe\">\n",
       "  <thead>\n",
       "    <tr style=\"text-align: right;\">\n",
       "      <th></th>\n",
       "      <th>text</th>\n",
       "      <th>category</th>\n",
       "    </tr>\n",
       "  </thead>\n",
       "  <tbody>\n",
       "    <tr>\n",
       "      <th>0</th>\n",
       "      <td>Meditation and yoga can improve mental health</td>\n",
       "      <td>Health</td>\n",
       "    </tr>\n",
       "    <tr>\n",
       "      <th>1</th>\n",
       "      <td>Fruits, whole grains and vegetables helps cont...</td>\n",
       "      <td>Health</td>\n",
       "    </tr>\n",
       "    <tr>\n",
       "      <th>2</th>\n",
       "      <td>These are the latest fashion trends for this week</td>\n",
       "      <td>Fashion</td>\n",
       "    </tr>\n",
       "    <tr>\n",
       "      <th>3</th>\n",
       "      <td>Vibrant color jeans for male are becoming a trend</td>\n",
       "      <td>Fashion</td>\n",
       "    </tr>\n",
       "    <tr>\n",
       "      <th>4</th>\n",
       "      <td>The concert starts at 7 PM tonight</td>\n",
       "      <td>Event</td>\n",
       "    </tr>\n",
       "    <tr>\n",
       "      <th>5</th>\n",
       "      <td>Navaratri dandiya program at Expo center in Mu...</td>\n",
       "      <td>Event</td>\n",
       "    </tr>\n",
       "    <tr>\n",
       "      <th>6</th>\n",
       "      <td>Exciting vacation destinations for your next trip</td>\n",
       "      <td>Travel</td>\n",
       "    </tr>\n",
       "    <tr>\n",
       "      <th>7</th>\n",
       "      <td>Maldives and Srilanka are gaining popularity i...</td>\n",
       "      <td>Travel</td>\n",
       "    </tr>\n",
       "  </tbody>\n",
       "</table>\n",
       "</div>"
      ],
      "text/plain": [
       "                                                text category\n",
       "0      Meditation and yoga can improve mental health   Health\n",
       "1  Fruits, whole grains and vegetables helps cont...   Health\n",
       "2  These are the latest fashion trends for this week  Fashion\n",
       "3  Vibrant color jeans for male are becoming a trend  Fashion\n",
       "4                 The concert starts at 7 PM tonight    Event\n",
       "5  Navaratri dandiya program at Expo center in Mu...    Event\n",
       "6  Exciting vacation destinations for your next trip   Travel\n",
       "7  Maldives and Srilanka are gaining popularity i...   Travel"
      ]
     },
     "execution_count": 4,
     "metadata": {},
     "output_type": "execute_result"
    }
   ],
   "source": [
    "df"
   ]
  },
  {
   "cell_type": "code",
   "execution_count": 5,
   "id": "560cbc60-1d6d-4c73-8a81-5d760a3da359",
   "metadata": {},
   "outputs": [
    {
     "name": "stderr",
     "output_type": "stream",
     "text": [
      "C:\\Users\\teja8\\AppData\\Local\\Programs\\Python\\Python312\\Lib\\site-packages\\sentence_transformers\\cross_encoder\\CrossEncoder.py:11: TqdmExperimentalWarning: Using `tqdm.autonotebook.tqdm` in notebook mode. Use `tqdm.tqdm` instead to force console mode (e.g. in jupyter console)\n",
      "  from tqdm.autonotebook import tqdm, trange\n"
     ]
    }
   ],
   "source": [
    "# Converting the text to vector using embeddings \n",
    "\n",
    "from sentence_transformers import SentenceTransformer"
   ]
  },
  {
   "cell_type": "code",
   "execution_count": 6,
   "id": "76101ea7-cca9-4257-b3f5-878b8a7c7b52",
   "metadata": {},
   "outputs": [
    {
     "name": "stderr",
     "output_type": "stream",
     "text": [
      "C:\\Users\\teja8\\AppData\\Local\\Programs\\Python\\Python312\\Lib\\site-packages\\transformers\\tokenization_utils_base.py:1601: FutureWarning: `clean_up_tokenization_spaces` was not set. It will be set to `True` by default. This behavior will be depracted in transformers v4.45, and will be then set to `False` by default. For more details check this issue: https://github.com/huggingface/transformers/issues/31884\n",
      "  warnings.warn(\n"
     ]
    }
   ],
   "source": [
    "# Hugging face encoder \n",
    "encoder = SentenceTransformer(\"all-mpnet-base-v2\")\n",
    "vectors = encoder.encode(df.text)"
   ]
  },
  {
   "cell_type": "code",
   "execution_count": 7,
   "id": "84390cd4-df01-424d-b090-c04e5832c241",
   "metadata": {},
   "outputs": [
    {
     "data": {
      "text/plain": [
       "array([[-0.00247395,  0.03626721, -0.05290459, ..., -0.09152356,\n",
       "        -0.03970002, -0.04330488],\n",
       "       [-0.03357267,  0.00980517, -0.03250129, ..., -0.05165467,\n",
       "         0.02245886, -0.03156182],\n",
       "       [-0.01865323, -0.04051314, -0.01235387, ...,  0.00610585,\n",
       "        -0.07179647,  0.02773853],\n",
       "       ...,\n",
       "       [-0.00066458,  0.04252125, -0.05645508, ...,  0.01315471,\n",
       "        -0.03183568, -0.04357664],\n",
       "       [-0.03317154,  0.03252455, -0.02484838, ...,  0.01174421,\n",
       "         0.05747123,  0.00571021],\n",
       "       [-0.00166395,  0.00413827, -0.04597082, ...,  0.02008527,\n",
       "         0.05656242, -0.00161595]], dtype=float32)"
      ]
     },
     "execution_count": 7,
     "metadata": {},
     "output_type": "execute_result"
    }
   ],
   "source": [
    "vectors"
   ]
  },
  {
   "cell_type": "code",
   "execution_count": 8,
   "id": "d3ea5311-d921-4a8d-9848-36771e67a75a",
   "metadata": {},
   "outputs": [
    {
     "data": {
      "text/plain": [
       "(8, 768)"
      ]
     },
     "execution_count": 8,
     "metadata": {},
     "output_type": "execute_result"
    }
   ],
   "source": [
    "vectors.shape"
   ]
  },
  {
   "cell_type": "code",
   "execution_count": 9,
   "id": "b0beab1a-c3b0-4dc3-978e-e23dd5b3de70",
   "metadata": {},
   "outputs": [
    {
     "data": {
      "text/plain": [
       "array([-2.47395248e-03,  3.62672098e-02, -5.29045872e-02, -2.17348319e-02,\n",
       "        1.41723454e-02, -1.01600331e-03,  2.23637372e-02,  3.65196317e-02,\n",
       "        3.80901434e-02,  5.22007467e-03, -3.00865676e-02,  2.05450621e-03,\n",
       "        1.08502982e-02, -8.49087834e-02, -5.57269482e-03, -6.06597736e-02,\n",
       "        2.32009869e-03, -1.51409162e-02,  1.20670889e-02,  1.98905114e-02,\n",
       "       -1.27936164e-02, -2.72811316e-02, -3.31878588e-02,  3.40648624e-03,\n",
       "        8.41166917e-03, -1.94855332e-02,  4.88132089e-02,  2.24118270e-02,\n",
       "        4.53466661e-02, -5.90892285e-02, -9.13182199e-02, -1.22332934e-03,\n",
       "       -4.05045897e-02,  8.67188256e-03,  1.26565260e-06, -1.92451514e-02,\n",
       "       -3.20659392e-02, -4.08172458e-02,  8.79177079e-02, -1.52632259e-02,\n",
       "        1.09908832e-02, -4.47976924e-02, -4.74822242e-03,  3.52632254e-02,\n",
       "        1.31070735e-02,  1.09944055e-02, -3.45762307e-03,  9.12349299e-02,\n",
       "        5.68809770e-02,  4.82893623e-02, -4.51437850e-03,  3.58451270e-02,\n",
       "       -2.44210232e-02, -4.28084731e-02, -1.66666731e-02,  1.65211316e-02,\n",
       "        1.14227980e-02,  6.19199350e-02, -2.31557414e-02, -3.98106761e-02,\n",
       "       -1.20360218e-02, -3.24893370e-02, -4.68717590e-02,  5.74309155e-02,\n",
       "       -2.09295359e-02,  8.66613910e-03,  2.93694586e-02,  1.39482028e-03,\n",
       "        2.89673191e-02,  1.57140736e-02, -4.39894106e-03,  3.33095938e-02,\n",
       "        3.25464010e-02, -5.67624019e-03,  9.64477565e-03, -1.09199723e-02,\n",
       "       -9.13844630e-03, -2.17638649e-02, -1.64262473e-03,  2.95123141e-02,\n",
       "        7.90998265e-02,  1.52952289e-02, -3.61722894e-02, -1.28437746e-02,\n",
       "        7.60599747e-02, -2.54636928e-02, -4.98353550e-03, -9.66977421e-03,\n",
       "        1.23360483e-02, -1.11458786e-02, -1.25426780e-02, -4.38241065e-02,\n",
       "       -1.63971039e-03,  3.94684728e-03,  5.90662356e-04,  1.25496993e-02,\n",
       "       -1.35576436e-02, -1.38590038e-01, -1.79839656e-02,  8.95770937e-02,\n",
       "        6.93043470e-02,  5.44512235e-02, -1.73114277e-02, -6.94496483e-02,\n",
       "        9.26831365e-03,  2.52373479e-02,  1.27631761e-02, -4.95675392e-03,\n",
       "       -1.05310697e-02,  6.89907894e-02, -4.03778069e-03,  1.46954386e-02,\n",
       "       -2.53698025e-02, -3.24942730e-02, -4.91565978e-03,  4.10973094e-03,\n",
       "       -6.16341308e-02, -9.87220369e-03, -4.40229066e-02, -2.49388143e-02,\n",
       "       -2.57239752e-02, -6.45753965e-02, -2.28087939e-02,  8.39947024e-04,\n",
       "        5.17682433e-02,  7.28095919e-02, -2.78259609e-02, -2.70896740e-02,\n",
       "        2.56125517e-02, -2.85153054e-02,  2.48931125e-02,  1.52170826e-02,\n",
       "       -1.82603002e-02,  4.57471935e-03,  4.00786381e-03, -4.10634503e-02,\n",
       "        5.58519997e-02, -4.68985690e-03, -5.42437173e-02,  4.36729379e-03,\n",
       "        1.01202549e-02, -9.13175382e-03,  8.82923678e-02, -2.30878200e-02,\n",
       "       -2.15984415e-02, -4.62850742e-02,  2.45606601e-02, -9.63651482e-03,\n",
       "        2.04568915e-02, -3.36907208e-02, -2.33146325e-02, -3.08773542e-06,\n",
       "       -4.21611108e-02, -2.33145505e-02,  3.98631245e-02,  5.20909093e-02,\n",
       "        8.87797922e-02, -7.32751098e-04,  3.44772004e-02, -2.87739858e-02,\n",
       "        4.24330533e-02, -1.99290626e-02,  2.78219972e-02, -3.48258018e-02,\n",
       "        5.40323555e-02, -4.23691906e-02,  8.31100568e-02, -2.88301427e-02,\n",
       "       -6.22712746e-02,  2.47737076e-02, -6.59210682e-02, -1.81271862e-02,\n",
       "       -1.48120672e-02,  1.07428856e-01, -4.06896183e-03,  6.28881678e-02,\n",
       "       -1.45184100e-02,  2.66864058e-02, -8.66079330e-02, -1.52695691e-02,\n",
       "       -3.13378824e-03, -2.73711351e-03, -1.79909486e-02,  1.99597366e-02,\n",
       "        8.21225643e-02,  6.80243550e-03, -7.02435710e-03,  2.94618700e-02,\n",
       "       -1.36624705e-02, -4.27074172e-02, -4.59483676e-02, -2.15018000e-02,\n",
       "        1.33594852e-02, -4.04235013e-02, -3.29468632e-03,  1.99418422e-02,\n",
       "        4.95411977e-02,  5.59021421e-02,  1.10123856e-02, -1.27649645e-03,\n",
       "       -3.47214490e-02,  5.04799262e-02, -2.76383311e-02, -6.08149171e-02,\n",
       "       -4.09358069e-02, -1.70138255e-02,  2.28634160e-02,  3.50624672e-03,\n",
       "        8.88338313e-02, -2.17470080e-02,  7.32045574e-03,  4.30594981e-02,\n",
       "       -2.76752794e-03, -1.28805162e-02,  1.48883066e-03, -7.65299611e-03,\n",
       "        7.79357448e-04,  3.98992598e-02,  1.81989539e-02,  2.18545715e-03,\n",
       "       -1.44026019e-02,  6.61468804e-02,  1.29944887e-02,  3.00712330e-04,\n",
       "        6.94511980e-02,  9.69152059e-03,  7.73052797e-02,  1.49983671e-02,\n",
       "        7.68603086e-02,  1.50437523e-02, -2.70854272e-02,  1.03822136e-02,\n",
       "       -6.34133443e-03, -1.86572019e-02, -5.77929728e-02,  2.80815586e-02,\n",
       "        2.32389066e-02, -2.65862308e-02, -4.37124260e-02,  2.25695409e-02,\n",
       "        2.60373577e-02,  5.91906086e-02, -9.07661021e-03, -2.58117504e-02,\n",
       "       -2.82168179e-03, -1.48377074e-02, -2.11602952e-02,  2.95709446e-02,\n",
       "       -6.05772808e-02,  9.92967747e-03,  3.09270504e-03, -2.78294981e-02,\n",
       "       -4.66294400e-02, -1.66598316e-02, -3.01651154e-02, -4.93829735e-02,\n",
       "       -4.89022471e-02, -1.16061624e-02,  1.28895249e-02, -1.51608828e-02,\n",
       "       -1.83716919e-02, -6.28018193e-03,  4.56341309e-03, -3.93354781e-02,\n",
       "        1.97598748e-02, -2.09158361e-02,  3.26804481e-02, -9.99122486e-02,\n",
       "       -7.31077511e-03, -2.85855085e-02, -4.75265644e-02, -7.53560662e-03,\n",
       "        7.45948963e-03, -1.76944099e-02, -3.87278162e-02, -1.26046408e-02,\n",
       "        6.57023489e-02,  9.98488516e-02,  3.23767550e-02, -3.14150564e-02,\n",
       "       -3.39231938e-02,  2.18933765e-02,  4.17155884e-02, -2.91292686e-02,\n",
       "        1.69252101e-02, -2.70651244e-02,  1.02948043e-02, -8.51277728e-03,\n",
       "        5.82498387e-02,  6.05044840e-03,  2.51693279e-02,  1.17144072e-02,\n",
       "       -1.43267941e-02, -2.68336125e-02, -3.36446166e-02,  4.13522795e-02,\n",
       "        1.23573206e-02,  3.27557474e-02,  1.36755023e-03, -3.43487971e-02,\n",
       "       -2.23306362e-02,  1.16950683e-02,  2.89603826e-02,  9.82660800e-03,\n",
       "        4.48702797e-02,  1.36506110e-02, -2.55217422e-02,  1.16558382e-02,\n",
       "        1.72282252e-02, -1.19525949e-02,  2.94620059e-02,  5.43993991e-03,\n",
       "        7.05651753e-03, -2.76310034e-02,  2.19648462e-02,  2.89274268e-02,\n",
       "        2.90115904e-02,  1.71293952e-02,  1.71571746e-02,  3.06242593e-02,\n",
       "       -3.33008706e-03, -4.28258441e-02, -2.78930832e-02, -8.78216140e-03,\n",
       "       -1.97482738e-03, -3.04208566e-02,  1.01123989e-01,  1.11175859e-02,\n",
       "        3.70046636e-03,  3.05223875e-02, -6.94842217e-03,  3.36759500e-02,\n",
       "        1.49479052e-02,  5.09506986e-02, -6.17867894e-02, -6.54374585e-02,\n",
       "        1.01318574e-02,  8.71544518e-03, -2.13060807e-02, -7.16115907e-03,\n",
       "        2.81146429e-02,  6.08832715e-03, -6.53893575e-02,  8.65299404e-02,\n",
       "       -4.26638499e-02, -1.95683595e-02,  6.20288029e-03,  5.45220561e-02,\n",
       "       -2.94234458e-04, -7.94979557e-02,  2.34850962e-02, -2.81759407e-02,\n",
       "       -2.67926864e-02,  8.09147395e-03,  1.06042959e-02, -3.51758450e-02,\n",
       "        3.66235003e-02,  1.09313298e-02,  2.97116805e-02,  1.30287791e-02,\n",
       "       -3.92856933e-02,  1.45116448e-02,  1.87349170e-02, -1.32707153e-02,\n",
       "        6.87149391e-02, -3.04464921e-02, -2.08048206e-02,  1.08850226e-02,\n",
       "        2.52188966e-02,  1.71259530e-02, -3.36281434e-02,  5.18848784e-02,\n",
       "       -1.62589941e-02,  1.43419076e-02, -5.09705767e-02,  7.62143582e-02,\n",
       "       -3.95714631e-03, -6.92037269e-02, -5.83421998e-02, -1.35672996e-02,\n",
       "        6.34213910e-03,  1.52591700e-02,  6.45107962e-03,  4.78064455e-03,\n",
       "        2.21218970e-02, -1.46030737e-02,  1.99064761e-02,  4.94005568e-02,\n",
       "        3.77786160e-02, -4.72103171e-02,  1.19165308e-03, -7.77721182e-02,\n",
       "        7.51761422e-02,  1.51350508e-02, -3.00766993e-02, -2.54277550e-02,\n",
       "       -7.68551277e-03, -3.32965888e-02,  2.68354546e-02,  1.16432970e-02,\n",
       "       -2.65071858e-02, -2.21001115e-02,  3.13200504e-02, -1.75454728e-02,\n",
       "        1.62755270e-02,  1.05225900e-02,  4.59099971e-02,  1.12993876e-02,\n",
       "        2.25951616e-03, -4.32901010e-02,  2.55049262e-02,  9.08372328e-02,\n",
       "        3.49960960e-02,  1.99541468e-02,  8.99380371e-02, -1.25246271e-02,\n",
       "        2.99614575e-02,  5.30705787e-03,  3.87516618e-02, -7.73842931e-02,\n",
       "       -2.13107932e-02,  1.71742886e-02, -2.26807781e-02,  3.90662216e-02,\n",
       "       -1.48159871e-02,  6.43334836e-02,  4.15602624e-02,  3.50659620e-03,\n",
       "       -3.73801813e-02, -2.15710439e-02,  3.59705053e-02,  1.26669956e-02,\n",
       "        1.18572237e-02, -1.57606788e-02,  2.89345738e-02, -1.26262580e-03,\n",
       "       -1.25825163e-02, -1.85953025e-02, -4.02568989e-02, -4.52977754e-02,\n",
       "       -3.23485024e-02, -9.25439131e-03,  1.25144664e-02, -1.65085811e-02,\n",
       "        1.14768194e-02,  2.81502903e-02,  8.33325461e-02,  3.36187817e-02,\n",
       "        4.08893451e-04,  3.39801051e-02,  1.61180478e-02,  3.48991752e-02,\n",
       "        1.53090367e-02, -1.57535542e-02,  4.15873267e-02, -2.98247449e-02,\n",
       "       -4.53814678e-02, -1.02242269e-01,  4.03168239e-02,  1.70004927e-02,\n",
       "        1.87224932e-02, -2.08056206e-03, -3.33347241e-03,  3.12028676e-02,\n",
       "        4.42098593e-04, -6.45755753e-02, -6.61168769e-02, -6.12062216e-02,\n",
       "       -1.36192041e-02, -2.49696653e-02,  6.13838099e-02,  2.51729898e-02,\n",
       "       -6.04649214e-03,  2.46976260e-02,  1.33112166e-02,  2.91291196e-02,\n",
       "       -3.77130210e-02,  3.14109623e-02,  7.01060370e-02, -1.87029075e-02,\n",
       "        4.64438908e-02, -3.50710303e-02,  5.78635000e-03,  2.02969834e-02,\n",
       "       -9.14937118e-04,  2.73546800e-02, -4.49903421e-02, -1.92701686e-02,\n",
       "       -1.94973231e-03, -2.72162519e-02, -1.74498430e-03,  5.99824227e-02,\n",
       "        3.38420225e-03, -4.43555377e-02,  2.25252043e-02, -1.98009014e-02,\n",
       "       -1.27885435e-02, -1.68490894e-02, -3.18890996e-02, -9.83175263e-03,\n",
       "       -2.37169228e-02, -3.51661030e-04,  2.70689907e-03,  4.34032828e-02,\n",
       "        2.23510410e-03,  1.04528144e-02, -1.25210658e-02,  3.80455293e-02,\n",
       "       -5.37322194e-04, -1.31307803e-02,  1.76105108e-02, -3.21566738e-04,\n",
       "       -4.33223583e-02, -6.97795004e-02,  2.04764828e-02,  2.54791905e-03,\n",
       "        3.64245623e-02,  1.31793069e-02,  3.74211669e-02, -2.40744743e-02,\n",
       "        1.58513132e-02,  2.33805981e-02, -1.43252825e-02,  9.85240191e-03,\n",
       "       -1.55072715e-02,  8.11946020e-03, -2.57197544e-02,  4.66310699e-03,\n",
       "       -1.50064928e-02, -1.59889143e-02, -6.18273728e-02, -3.19935083e-02,\n",
       "        3.00306976e-02, -2.62036510e-02, -4.40740287e-02,  4.71212342e-02,\n",
       "       -8.53406712e-02,  5.49824797e-02, -6.54156227e-03,  4.11518775e-02,\n",
       "        4.12454046e-02, -2.99727488e-02,  8.77856836e-02, -4.84293187e-03,\n",
       "       -1.86586771e-02, -2.43209563e-02, -3.44154029e-03,  1.71137415e-02,\n",
       "        5.27162179e-02, -3.81458700e-02, -6.85427636e-02,  1.49509469e-02,\n",
       "       -2.22114734e-02, -2.86750458e-02, -2.97920639e-03, -3.73255676e-33,\n",
       "       -8.48157890e-03,  5.95543720e-02, -9.73881222e-03,  2.78523155e-02,\n",
       "        4.26141266e-03, -4.62204106e-02, -1.60575539e-04,  2.03653332e-02,\n",
       "        2.74291933e-02,  3.67005467e-02,  8.95548705e-03,  7.47958273e-02,\n",
       "       -5.74467750e-03,  1.78796556e-02, -8.56288243e-03, -1.87858343e-02,\n",
       "       -2.86744274e-02,  5.29133249e-03, -7.28305243e-03, -1.84069090e-02,\n",
       "       -3.48132066e-02,  5.07888943e-02,  3.45481820e-02, -4.04980257e-02,\n",
       "       -4.27604429e-02,  2.78409105e-02,  4.66892943e-02, -6.46445155e-02,\n",
       "       -5.29186148e-03, -5.78816049e-03, -1.56755261e-02, -5.47080953e-03,\n",
       "        1.39788669e-02, -1.11808418e-03,  5.50410245e-04, -2.26584189e-02,\n",
       "        1.50561538e-02,  3.38191129e-02, -8.25204421e-03,  2.16513406e-02,\n",
       "        8.77551502e-04, -2.40295357e-03, -2.82622837e-02,  1.05069242e-02,\n",
       "        3.68514247e-02, -2.31945030e-02, -2.93092839e-02, -4.81787659e-02,\n",
       "        2.89041195e-02, -4.68107685e-02, -3.55234966e-02, -2.09481679e-02,\n",
       "       -8.83262604e-03,  8.06664899e-02, -8.48142579e-02, -3.95479873e-02,\n",
       "       -5.03684841e-02,  2.69837193e-02, -3.94664332e-03, -2.39755940e-02,\n",
       "        3.29292119e-02,  4.16704826e-02, -2.45395415e-02, -3.85609977e-02,\n",
       "       -3.02901231e-02, -2.84514688e-02, -6.83768913e-02, -9.38018411e-03,\n",
       "       -4.70948555e-02, -2.15400793e-02,  4.15227301e-02,  6.90572290e-03,\n",
       "        2.96323709e-02, -1.55480960e-02, -2.56335717e-02, -4.94205020e-02,\n",
       "       -1.07960925e-02,  1.36496406e-02,  8.46192706e-03,  4.44032103e-02,\n",
       "        3.94011411e-04,  2.20193453e-02,  3.60400826e-02,  5.93104661e-02,\n",
       "        2.14910135e-02, -1.90565716e-02, -2.08019484e-02,  1.91410426e-02,\n",
       "       -3.78729915e-03,  1.66846476e-02,  2.79686134e-02, -6.88841566e-03,\n",
       "       -9.25204251e-03, -2.20814962e-02,  4.68296260e-02,  2.11678147e-02,\n",
       "       -2.44130753e-02, -7.68515002e-03,  3.94080132e-02, -5.65718189e-02,\n",
       "        8.71800259e-03,  2.10748240e-02, -1.76222418e-02,  5.53251058e-02,\n",
       "        3.49679701e-02, -2.62318887e-02,  5.69754094e-02, -7.94603825e-02,\n",
       "       -1.52110066e-02,  2.09261570e-02,  1.75831355e-02,  4.12070528e-02,\n",
       "        2.66290195e-02, -1.34376111e-02, -4.86178100e-02,  1.27242859e-02,\n",
       "        9.39345732e-03, -8.11946671e-03,  2.95723733e-02, -6.94516599e-02,\n",
       "       -7.10697472e-02,  3.01120803e-04,  4.31027636e-02, -5.95075041e-02,\n",
       "        2.65519470e-02, -5.90478927e-02,  4.46865186e-02, -1.46237640e-02,\n",
       "       -9.81815811e-03, -4.89699170e-02,  1.01139788e-02,  2.82771625e-02,\n",
       "        1.99888504e-07, -6.35881349e-02,  1.15379794e-02, -1.61977075e-02,\n",
       "       -3.75170261e-02,  2.24945173e-02,  5.74998418e-03, -6.25733733e-02,\n",
       "       -1.51105914e-02,  2.80585308e-02,  3.69874611e-02, -4.67125215e-02,\n",
       "       -2.84616202e-02,  1.72772203e-02, -9.28012189e-03,  7.98695683e-02,\n",
       "       -8.46900120e-02,  3.83958891e-02,  1.41008489e-03, -9.62680951e-03,\n",
       "        1.36490725e-02, -1.77746937e-02,  4.18013744e-02,  8.53314251e-03,\n",
       "       -1.77573878e-03, -8.90158489e-03,  3.19797397e-02,  3.75544503e-02,\n",
       "        1.10769253e-02,  5.14425710e-02,  4.77531739e-02,  9.78297219e-02,\n",
       "       -9.33892559e-03, -6.87362030e-02, -3.38471308e-02, -4.79166722e-03,\n",
       "       -3.35370339e-02, -2.90469378e-02,  2.22573560e-02, -6.03137305e-04,\n",
       "        4.80033495e-02, -3.26162912e-02,  7.76100233e-02, -2.88890544e-02,\n",
       "       -1.22942887e-02,  1.82095990e-02, -1.09790392e-01, -2.57627387e-02,\n",
       "        3.70127633e-02, -6.64480915e-03, -2.65491940e-02,  2.67257821e-02,\n",
       "        2.67418567e-02,  6.14947686e-03,  3.98128852e-02, -1.56973419e-03,\n",
       "        6.82425918e-04,  4.84148599e-02,  2.97234906e-03, -1.46997049e-02,\n",
       "       -3.73888016e-02, -1.90463196e-02,  4.02793102e-02,  1.27058278e-03,\n",
       "        1.20821630e-03, -5.90572767e-02, -1.78195965e-02, -5.61401248e-02,\n",
       "        9.20051393e-35,  1.11877704e-02,  1.60856992e-02,  9.83772986e-03,\n",
       "       -2.01887768e-02, -7.61519140e-03, -4.81337495e-02, -6.21873699e-02,\n",
       "        6.26678113e-03, -9.15235579e-02, -3.97000164e-02, -4.33048755e-02],\n",
       "      dtype=float32)"
      ]
     },
     "execution_count": 9,
     "metadata": {},
     "output_type": "execute_result"
    }
   ],
   "source": [
    "vectors[0]"
   ]
  },
  {
   "cell_type": "code",
   "execution_count": 10,
   "id": "2be56af9-fb9d-4cb3-8dd2-74b3d82ca77d",
   "metadata": {},
   "outputs": [],
   "source": [
    "dim = vectors.shape[1]"
   ]
  },
  {
   "cell_type": "code",
   "execution_count": 11,
   "id": "d6f6dd65-08aa-4fd6-85bc-a84dcfc80f09",
   "metadata": {},
   "outputs": [
    {
     "data": {
      "text/plain": [
       "768"
      ]
     },
     "execution_count": 11,
     "metadata": {},
     "output_type": "execute_result"
    }
   ],
   "source": [
    "dim"
   ]
  },
  {
   "cell_type": "code",
   "execution_count": 12,
   "id": "375f973d-b9b6-4073-9212-524f609c2c74",
   "metadata": {},
   "outputs": [],
   "source": [
    "import faiss\n",
    "index = faiss.IndexFlatL2(dim)"
   ]
  },
  {
   "cell_type": "code",
   "execution_count": 13,
   "id": "f22d8ba5-a671-4477-b8bb-fd912c9cb298",
   "metadata": {},
   "outputs": [
    {
     "data": {
      "text/plain": [
       "<faiss.swigfaiss_avx2.IndexFlatL2; proxy of <Swig Object of type 'faiss::IndexFlatL2 *' at 0x0000017D01312760> >"
      ]
     },
     "execution_count": 13,
     "metadata": {},
     "output_type": "execute_result"
    }
   ],
   "source": [
    "index\n"
   ]
  },
  {
   "cell_type": "code",
   "execution_count": 14,
   "id": "57eb67d6-cf3a-40e4-9e3d-b2d271c470ac",
   "metadata": {},
   "outputs": [],
   "source": [
    "index.add(vectors)"
   ]
  },
  {
   "cell_type": "code",
   "execution_count": 15,
   "id": "7ce5bb84-7848-450f-94c0-608964c8cbef",
   "metadata": {},
   "outputs": [],
   "source": [
    "search_query = \"i love black shirts\""
   ]
  },
  {
   "cell_type": "code",
   "execution_count": 16,
   "id": "42b78d83-2525-44ea-bc13-f73ca558a498",
   "metadata": {},
   "outputs": [],
   "source": [
    "vec = encoder.encode(search_query)"
   ]
  },
  {
   "cell_type": "code",
   "execution_count": 17,
   "id": "cac18d27-d2a2-4231-a1e3-506ec0a60337",
   "metadata": {},
   "outputs": [
    {
     "data": {
      "text/plain": [
       "(768,)"
      ]
     },
     "execution_count": 17,
     "metadata": {},
     "output_type": "execute_result"
    }
   ],
   "source": [
    "vec.shape"
   ]
  },
  {
   "cell_type": "code",
   "execution_count": 18,
   "id": "ad515d64-4c7a-460b-820f-a7b776c04101",
   "metadata": {},
   "outputs": [],
   "source": [
    "import numpy as np \n",
    "svec = np.array(vec).reshape(1,-1)"
   ]
  },
  {
   "cell_type": "code",
   "execution_count": 19,
   "id": "69b123ec-c35c-4bc6-9b39-4dcc4a550ef5",
   "metadata": {},
   "outputs": [
    {
     "data": {
      "text/plain": [
       "(1, 768)"
      ]
     },
     "execution_count": 19,
     "metadata": {},
     "output_type": "execute_result"
    }
   ],
   "source": [
    "svec.shape"
   ]
  },
  {
   "cell_type": "code",
   "execution_count": 20,
   "id": "6886a2f8-d660-4525-a598-9d11b51f776a",
   "metadata": {},
   "outputs": [
    {
     "data": {
      "text/plain": [
       "(array([[1.081248 , 1.3583515]], dtype=float32), array([[3, 2]], dtype=int64))"
      ]
     },
     "execution_count": 20,
     "metadata": {},
     "output_type": "execute_result"
    }
   ],
   "source": [
    "index.search(svec, k=2)"
   ]
  },
  {
   "cell_type": "code",
   "execution_count": 21,
   "id": "b2ede8cc-da23-4f3b-893c-2dda6edec544",
   "metadata": {},
   "outputs": [],
   "source": [
    "dis, I = index.search(svec, k=2)"
   ]
  },
  {
   "cell_type": "code",
   "execution_count": 22,
   "id": "1b3625d6-7a35-4c19-a6c2-486f58751b65",
   "metadata": {},
   "outputs": [
    {
     "data": {
      "text/plain": [
       "array([[1.081248 , 1.3583515]], dtype=float32)"
      ]
     },
     "execution_count": 22,
     "metadata": {},
     "output_type": "execute_result"
    }
   ],
   "source": [
    "dis"
   ]
  },
  {
   "cell_type": "code",
   "execution_count": 23,
   "id": "0bbcf85a-8a1f-4826-890c-56b6cb3d9074",
   "metadata": {},
   "outputs": [
    {
     "data": {
      "text/plain": [
       "array([[3, 2]], dtype=int64)"
      ]
     },
     "execution_count": 23,
     "metadata": {},
     "output_type": "execute_result"
    }
   ],
   "source": [
    "I"
   ]
  },
  {
   "cell_type": "code",
   "execution_count": 24,
   "id": "f9223e47-af12-429d-a620-225e85eb324e",
   "metadata": {},
   "outputs": [
    {
     "data": {
      "text/html": [
       "<div>\n",
       "<style scoped>\n",
       "    .dataframe tbody tr th:only-of-type {\n",
       "        vertical-align: middle;\n",
       "    }\n",
       "\n",
       "    .dataframe tbody tr th {\n",
       "        vertical-align: top;\n",
       "    }\n",
       "\n",
       "    .dataframe thead th {\n",
       "        text-align: right;\n",
       "    }\n",
       "</style>\n",
       "<table border=\"1\" class=\"dataframe\">\n",
       "  <thead>\n",
       "    <tr style=\"text-align: right;\">\n",
       "      <th></th>\n",
       "      <th>text</th>\n",
       "      <th>category</th>\n",
       "    </tr>\n",
       "  </thead>\n",
       "  <tbody>\n",
       "    <tr>\n",
       "      <th>3</th>\n",
       "      <td>Vibrant color jeans for male are becoming a trend</td>\n",
       "      <td>Fashion</td>\n",
       "    </tr>\n",
       "    <tr>\n",
       "      <th>2</th>\n",
       "      <td>These are the latest fashion trends for this week</td>\n",
       "      <td>Fashion</td>\n",
       "    </tr>\n",
       "  </tbody>\n",
       "</table>\n",
       "</div>"
      ],
      "text/plain": [
       "                                                text category\n",
       "3  Vibrant color jeans for male are becoming a trend  Fashion\n",
       "2  These are the latest fashion trends for this week  Fashion"
      ]
     },
     "execution_count": 24,
     "metadata": {},
     "output_type": "execute_result"
    }
   ],
   "source": [
    "df.loc[I[0]]"
   ]
  },
  {
   "cell_type": "code",
   "execution_count": null,
   "id": "c87942c9-b411-4ee4-831b-84ff06eebe13",
   "metadata": {},
   "outputs": [],
   "source": []
  },
  {
   "cell_type": "code",
   "execution_count": null,
   "id": "87ff9eed-6faf-4ca3-8395-6100b28c63c3",
   "metadata": {},
   "outputs": [],
   "source": []
  },
  {
   "cell_type": "code",
   "execution_count": null,
   "id": "761ed3fe-c19a-4cbc-b642-a396df444cf8",
   "metadata": {},
   "outputs": [],
   "source": []
  },
  {
   "cell_type": "code",
   "execution_count": null,
   "id": "322d7d73-c72c-4aea-9a57-21d8a26c7648",
   "metadata": {},
   "outputs": [],
   "source": []
  },
  {
   "cell_type": "code",
   "execution_count": null,
   "id": "05cfd07f-a50f-431a-a6df-be8aecc7b5ce",
   "metadata": {},
   "outputs": [],
   "source": []
  },
  {
   "cell_type": "code",
   "execution_count": null,
   "id": "4acd8eaa-b113-4b33-9418-722f766f5738",
   "metadata": {},
   "outputs": [],
   "source": []
  },
  {
   "cell_type": "code",
   "execution_count": null,
   "id": "e01f5737-9e42-42b0-90a1-382462b2621d",
   "metadata": {},
   "outputs": [],
   "source": []
  },
  {
   "cell_type": "code",
   "execution_count": null,
   "id": "9d3587a2-709e-4f1a-b919-411d16b288a4",
   "metadata": {},
   "outputs": [],
   "source": []
  },
  {
   "cell_type": "code",
   "execution_count": null,
   "id": "e7e014dc-c3b3-4a01-8570-6cc7154b71a4",
   "metadata": {},
   "outputs": [],
   "source": []
  },
  {
   "cell_type": "code",
   "execution_count": null,
   "id": "9d6eed22-6e6a-4a18-8a83-bec5c1f9c9c0",
   "metadata": {},
   "outputs": [],
   "source": []
  },
  {
   "cell_type": "code",
   "execution_count": null,
   "id": "fa60fe77-9a6e-4402-9fd9-cf290a36a602",
   "metadata": {},
   "outputs": [],
   "source": []
  }
 ],
 "metadata": {
  "kernelspec": {
   "display_name": "Python 3 (ipykernel)",
   "language": "python",
   "name": "python3"
  },
  "language_info": {
   "codemirror_mode": {
    "name": "ipython",
    "version": 3
   },
   "file_extension": ".py",
   "mimetype": "text/x-python",
   "name": "python",
   "nbconvert_exporter": "python",
   "pygments_lexer": "ipython3",
   "version": "3.12.5"
  }
 },
 "nbformat": 4,
 "nbformat_minor": 5
}
